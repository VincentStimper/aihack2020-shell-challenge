{
 "cells": [
  {
   "cell_type": "markdown",
   "metadata": {},
   "source": [
    "# Do logistic regression on Snippet dataset"
   ]
  },
  {
   "cell_type": "code",
   "execution_count": null,
   "metadata": {},
   "outputs": [],
   "source": [
    "# Load packages\n",
    "import numpy as np\n",
    "from matplotlib import pyplot as plt\n",
    "from sklearn import decomposition as dc\n",
    "from sklearn import linear_model as lm"
   ]
  },
  {
   "cell_type": "code",
   "execution_count": null,
   "metadata": {},
   "outputs": [],
   "source": [
    "# Load data\n",
    "snippets = np.load('../../data/snippets.npy')\n",
    "targets = np.load('../../data/targets.npy')\n",
    "\n",
    "# Remove time\n",
    "snippets = snippets[:, :, :-1]"
   ]
  },
  {
   "cell_type": "code",
   "execution_count": null,
   "metadata": {},
   "outputs": [],
   "source": [
    "y = targets\n",
    "ind_anomaly = np.where(y == 1)[0]\n",
    "ind_no_anomaly = np.array_split(np.where(y == 0)[0], 9)\n",
    "X = snippets.reshape(snippets.shape[0], np.prod(snippets.shape[1:]))\n",
    "X_mean = np.mean(X, 1, keepdims=True)\n",
    "X_std = np.std(X, 1, keepdims=True)\n",
    "X_norm = (X - X_mean) / X_std"
   ]
  },
  {
   "cell_type": "code",
   "execution_count": null,
   "metadata": {},
   "outputs": [],
   "source": [
    "# Do PCA\n",
    "pca = dc.PCA(n_components=3)\n",
    "pca.fit(X_norm)\n",
    "X_trans = pca.transform(X_norm)"
   ]
  },
  {
   "cell_type": "code",
   "execution_count": null,
   "metadata": {
    "scrolled": false
   },
   "outputs": [],
   "source": [
    "# Fit logistic regression model\n",
    "l = 2\n",
    "for i in range(9):\n",
    "    ind_fold = np.concatenate((np.array([ind_anomaly[i]]), ind_no_anomaly[i]))\n",
    "    X_fold_ref = np.delete(X_trans, ind_fold, 0)[::100, :]\n",
    "    X_fold_train = get_x_tilde(evaluate_basis_functions(l, np.delete(X_trans, ind_fold, 0), X_fold_ref))\n",
    "    y_fold_train = np.delete(y, ind_fold, 0)\n",
    "    X_fold_test = get_x_tilde(evaluate_basis_functions(l, X_trans[ind_fold, :], X_fold_ref))\n",
    "    y_fold_test = y[ind_fold]\n",
    "    log_reg = lm.LogisticRegression(max_iter=10000, class_weight='balanced')\n",
    "    log_reg.fit(X_fold_train, y_fold_train)\n",
    "    y_fold_pred = log_reg.predict(X_fold_test)\n",
    "    print(np.mean(y_fold_test == y_fold_pred))\n",
    "    ind_a = np.where(y_fold_test == 1)[0]\n",
    "    print(y_fold_pred[ind_a])\n",
    "    y_fold_pred = log_reg.predict(X_fold_train)\n",
    "    #ind_a = np.where(y_fold_pred == 0)[0]\n",
    "    #ind_na = np.where(y_fold_pred == 1)[0]\n",
    "    #plt.figure(figsize=(15, 10))\n",
    "    #plt.plot(np.delete(X_trans, ind_fold, 0)[ind_na, 0], np.delete(X_trans, ind_fold, 0)[ind_na, 1], '.')\n",
    "    #plt.plot(np.delete(X_trans, ind_fold, 0)[ind_a, 0], np.delete(X_trans, ind_fold, 0)[ind_a, 1], 'r.')"
   ]
  },
  {
   "cell_type": "code",
   "execution_count": null,
   "metadata": {},
   "outputs": [],
   "source": [
    "xx, yy = np.meshgrid(np.linspace(-22, 45), np.linspace(-25, 30))"
   ]
  },
  {
   "cell_type": "code",
   "execution_count": null,
   "metadata": {},
   "outputs": [],
   "source": [
    "# Do PCA\n",
    "pca = dc.PCA(n_components=20)\n",
    "pca.fit(X_norm)\n",
    "X_trans = pca.transform(X_norm)"
   ]
  },
  {
   "cell_type": "code",
   "execution_count": null,
   "metadata": {},
   "outputs": [],
   "source": [
    "ind0 = 0\n",
    "ind1 = 1\n",
    "plt.plot(X_trans[:, ind0], X_trans[:, ind1], '.')\n",
    "plt.plot(X_trans[ind_anomaly, ind0], X_trans[ind_anomaly, ind1], 'r.')"
   ]
  },
  {
   "cell_type": "code",
   "execution_count": null,
   "metadata": {},
   "outputs": [],
   "source": [
    "np.savetxt('y.csv', y)"
   ]
  },
  {
   "cell_type": "code",
   "execution_count": null,
   "metadata": {},
   "outputs": [],
   "source": [
    "np.concatenate([np.arange(1), np.arange(10)])"
   ]
  },
  {
   "cell_type": "code",
   "execution_count": null,
   "metadata": {},
   "outputs": [],
   "source": [
    "xx.shape"
   ]
  },
  {
   "cell_type": "code",
   "execution_count": null,
   "metadata": {},
   "outputs": [],
   "source": []
  }
 ],
 "metadata": {
  "kernelspec": {
   "display_name": "Python 3",
   "language": "python",
   "name": "python3"
  },
  "language_info": {
   "codemirror_mode": {
    "name": "ipython",
    "version": 3
   },
   "file_extension": ".py",
   "mimetype": "text/x-python",
   "name": "python",
   "nbconvert_exporter": "python",
   "pygments_lexer": "ipython3",
   "version": "3.7.6"
  }
 },
 "nbformat": 4,
 "nbformat_minor": 4
}
