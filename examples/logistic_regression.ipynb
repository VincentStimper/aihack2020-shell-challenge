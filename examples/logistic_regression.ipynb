{
 "cells": [
  {
   "cell_type": "markdown",
   "metadata": {},
   "source": [
    "# Do logistic regression on Snippet dataset"
   ]
  },
  {
   "cell_type": "code",
   "execution_count": 1,
   "metadata": {},
   "outputs": [
    {
     "name": "stderr",
     "output_type": "stream",
     "text": [
      "/scratch/vs488/home/anaconda3/envs/aihack/lib/python3.7/importlib/_bootstrap.py:219: RuntimeWarning: numpy.ufunc size changed, may indicate binary incompatibility. Expected 192 from C header, got 216 from PyObject\n",
      "  return f(*args, **kwds)\n",
      "/scratch/vs488/home/anaconda3/envs/aihack/lib/python3.7/importlib/_bootstrap.py:219: RuntimeWarning: numpy.ufunc size changed, may indicate binary incompatibility. Expected 192 from C header, got 216 from PyObject\n",
      "  return f(*args, **kwds)\n"
     ]
    }
   ],
   "source": [
    "# Load packages\n",
    "import numpy as np\n",
    "from matplotlib import pyplot as plt\n",
    "from sklearn import decomposition as dc\n",
    "from sklearn import linear_model as lm"
   ]
  },
  {
   "cell_type": "code",
   "execution_count": 3,
   "metadata": {},
   "outputs": [],
   "source": [
    "# Load data\n",
    "snippets = np.load('../../data/snippets.npy')\n",
    "targets = np.load('../../data/targets.npy')\n",
    "\n",
    "# Remove time\n",
    "snippets = snippets[:, :, :-1]"
   ]
  },
  {
   "cell_type": "code",
   "execution_count": 28,
   "metadata": {},
   "outputs": [],
   "source": [
    "y = targets\n",
    "ind_anomaly = np.where(y == 1)[0]\n",
    "X = snippets.reshape(snippets.shape[0], np.prod(snippets.shape[1:]))\n",
    "X_mean = np.mean(X, 1, keepdims=True)\n",
    "X_std = np.std(X, 1, keepdims=True)\n",
    "X_norm = (X - X_mean) / X_std"
   ]
  },
  {
   "cell_type": "code",
   "execution_count": 35,
   "metadata": {},
   "outputs": [
    {
     "name": "stdout",
     "output_type": "stream",
     "text": [
      "[0]\n",
      "[0]\n",
      "[1]\n",
      "[0]\n",
      "[0]\n",
      "[0]\n",
      "[0]\n",
      "[1]\n",
      "[0]\n"
     ]
    }
   ],
   "source": [
    "# Fit logistic regression model\n",
    "for i in range(9):\n",
    "    X_fold = np.delete(X_norm, ind_anomaly[i], 0)\n",
    "    y_fold = np.delete(y, ind_anomaly[i], 0)\n",
    "    log_reg = lm.LogisticRegression(max_iter=10000, class_weight='balanced')\n",
    "    log_reg.fit(X_fold, y_fold)\n",
    "    print(log_reg.predict(X_norm[ind_anomaly[i], :][None, :]))"
   ]
  },
  {
   "cell_type": "code",
   "execution_count": 43,
   "metadata": {},
   "outputs": [],
   "source": [
    "# Do PCA\n",
    "pca = dc.PCA(n_components=10)\n",
    "pca.fit(X_norm)\n",
    "X_trans = pca.transform(X_norm)"
   ]
  },
  {
   "cell_type": "code",
   "execution_count": 46,
   "metadata": {},
   "outputs": [
    {
     "data": {
      "text/plain": [
       "[<matplotlib.lines.Line2D at 0x7f2ca9b86350>]"
      ]
     },
     "execution_count": 46,
     "metadata": {},
     "output_type": "execute_result"
    },
    {
     "data": {
      "image/png": "[encoded data removed]",
      "text/plain": [
       "<Figure size 432x288 with 1 Axes>"
      ]
     },
     "metadata": {
      "needs_background": "light"
     },
     "output_type": "display_data"
    }
   ],
   "source": [
    "plt.plot(X_trans[:, 5], X_trans[:, 6], '.')\n",
    "plt.plot(X_trans[ind_anomaly, 0], X_trans[ind_anomaly, 1], 'r.')"
   ]
  }
 ],
 "metadata": {
  "kernelspec": {
   "display_name": "Python 3",
   "language": "python",
   "name": "python3"
  },
  "language_info": {
   "codemirror_mode": {
    "name": "ipython",
    "version": 3
   },
   "file_extension": ".py",
   "mimetype": "text/x-python",
   "name": "python",
   "nbconvert_exporter": "python",
   "pygments_lexer": "ipython3",
   "version": "3.7.6"
  }
 },
 "nbformat": 4,
 "nbformat_minor": 4
}
